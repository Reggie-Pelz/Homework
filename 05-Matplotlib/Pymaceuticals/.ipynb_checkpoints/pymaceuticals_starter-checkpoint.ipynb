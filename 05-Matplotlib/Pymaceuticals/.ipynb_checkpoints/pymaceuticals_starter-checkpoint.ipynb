{
 "cells": [
  {
   "cell_type": "markdown",
   "metadata": {},
   "source": [
    "## Observations and Insights "
   ]
  },
  {
   "cell_type": "markdown",
   "metadata": {},
   "source": []
  },
  {
   "cell_type": "code",
   "execution_count": 265,
   "metadata": {
    "scrolled": false
   },
   "outputs": [
    {
     "name": "stdout",
     "output_type": "stream",
     "text": [
      "  Mouse ID Drug Regimen     Sex  Age_months  Weight (g)\n",
      "0     k403     Ramicane    Male          21          16\n",
      "1     s185    Capomulin  Female           3          17\n",
      "2     x401    Capomulin  Female          16          15\n",
      "3     m601    Capomulin    Male          22          17\n",
      "4     g791     Ramicane    Male          11          16\n",
      "  Mouse ID  Timepoint  Tumor Volume (mm3)  Metastatic Sites\n",
      "0     b128          0                45.0                 0\n",
      "1     f932          0                45.0                 0\n",
      "2     g107          0                45.0                 0\n",
      "3     a457          0                45.0                 0\n",
      "4     c819          0                45.0                 0\n"
     ]
    },
    {
     "data": {
      "text/html": [
       "<div>\n",
       "<style scoped>\n",
       "    .dataframe tbody tr th:only-of-type {\n",
       "        vertical-align: middle;\n",
       "    }\n",
       "\n",
       "    .dataframe tbody tr th {\n",
       "        vertical-align: top;\n",
       "    }\n",
       "\n",
       "    .dataframe thead th {\n",
       "        text-align: right;\n",
       "    }\n",
       "</style>\n",
       "<table border=\"1\" class=\"dataframe\">\n",
       "  <thead>\n",
       "    <tr style=\"text-align: right;\">\n",
       "      <th></th>\n",
       "      <th>Mouse ID</th>\n",
       "      <th>Drug Regimen</th>\n",
       "      <th>Sex</th>\n",
       "      <th>Age_months</th>\n",
       "      <th>Weight (g)</th>\n",
       "      <th>Timepoint</th>\n",
       "      <th>Tumor Volume (mm3)</th>\n",
       "      <th>Metastatic Sites</th>\n",
       "    </tr>\n",
       "  </thead>\n",
       "  <tbody>\n",
       "    <tr>\n",
       "      <td>0</td>\n",
       "      <td>k403</td>\n",
       "      <td>Ramicane</td>\n",
       "      <td>Male</td>\n",
       "      <td>21</td>\n",
       "      <td>16</td>\n",
       "      <td>0</td>\n",
       "      <td>45.000000</td>\n",
       "      <td>0</td>\n",
       "    </tr>\n",
       "    <tr>\n",
       "      <td>1</td>\n",
       "      <td>k403</td>\n",
       "      <td>Ramicane</td>\n",
       "      <td>Male</td>\n",
       "      <td>21</td>\n",
       "      <td>16</td>\n",
       "      <td>5</td>\n",
       "      <td>38.825898</td>\n",
       "      <td>0</td>\n",
       "    </tr>\n",
       "    <tr>\n",
       "      <td>2</td>\n",
       "      <td>k403</td>\n",
       "      <td>Ramicane</td>\n",
       "      <td>Male</td>\n",
       "      <td>21</td>\n",
       "      <td>16</td>\n",
       "      <td>10</td>\n",
       "      <td>35.014271</td>\n",
       "      <td>1</td>\n",
       "    </tr>\n",
       "    <tr>\n",
       "      <td>3</td>\n",
       "      <td>k403</td>\n",
       "      <td>Ramicane</td>\n",
       "      <td>Male</td>\n",
       "      <td>21</td>\n",
       "      <td>16</td>\n",
       "      <td>15</td>\n",
       "      <td>34.223992</td>\n",
       "      <td>1</td>\n",
       "    </tr>\n",
       "    <tr>\n",
       "      <td>4</td>\n",
       "      <td>k403</td>\n",
       "      <td>Ramicane</td>\n",
       "      <td>Male</td>\n",
       "      <td>21</td>\n",
       "      <td>16</td>\n",
       "      <td>20</td>\n",
       "      <td>32.997729</td>\n",
       "      <td>1</td>\n",
       "    </tr>\n",
       "    <tr>\n",
       "      <td>5</td>\n",
       "      <td>k403</td>\n",
       "      <td>Ramicane</td>\n",
       "      <td>Male</td>\n",
       "      <td>21</td>\n",
       "      <td>16</td>\n",
       "      <td>25</td>\n",
       "      <td>33.464577</td>\n",
       "      <td>1</td>\n",
       "    </tr>\n",
       "    <tr>\n",
       "      <td>6</td>\n",
       "      <td>k403</td>\n",
       "      <td>Ramicane</td>\n",
       "      <td>Male</td>\n",
       "      <td>21</td>\n",
       "      <td>16</td>\n",
       "      <td>30</td>\n",
       "      <td>31.099498</td>\n",
       "      <td>1</td>\n",
       "    </tr>\n",
       "    <tr>\n",
       "      <td>7</td>\n",
       "      <td>k403</td>\n",
       "      <td>Ramicane</td>\n",
       "      <td>Male</td>\n",
       "      <td>21</td>\n",
       "      <td>16</td>\n",
       "      <td>35</td>\n",
       "      <td>26.546993</td>\n",
       "      <td>1</td>\n",
       "    </tr>\n",
       "    <tr>\n",
       "      <td>8</td>\n",
       "      <td>k403</td>\n",
       "      <td>Ramicane</td>\n",
       "      <td>Male</td>\n",
       "      <td>21</td>\n",
       "      <td>16</td>\n",
       "      <td>40</td>\n",
       "      <td>24.365505</td>\n",
       "      <td>1</td>\n",
       "    </tr>\n",
       "    <tr>\n",
       "      <td>9</td>\n",
       "      <td>k403</td>\n",
       "      <td>Ramicane</td>\n",
       "      <td>Male</td>\n",
       "      <td>21</td>\n",
       "      <td>16</td>\n",
       "      <td>45</td>\n",
       "      <td>22.050126</td>\n",
       "      <td>1</td>\n",
       "    </tr>\n",
       "  </tbody>\n",
       "</table>\n",
       "</div>"
      ],
      "text/plain": [
       "  Mouse ID Drug Regimen   Sex  Age_months  Weight (g)  Timepoint  \\\n",
       "0     k403     Ramicane  Male          21          16          0   \n",
       "1     k403     Ramicane  Male          21          16          5   \n",
       "2     k403     Ramicane  Male          21          16         10   \n",
       "3     k403     Ramicane  Male          21          16         15   \n",
       "4     k403     Ramicane  Male          21          16         20   \n",
       "5     k403     Ramicane  Male          21          16         25   \n",
       "6     k403     Ramicane  Male          21          16         30   \n",
       "7     k403     Ramicane  Male          21          16         35   \n",
       "8     k403     Ramicane  Male          21          16         40   \n",
       "9     k403     Ramicane  Male          21          16         45   \n",
       "\n",
       "   Tumor Volume (mm3)  Metastatic Sites  \n",
       "0           45.000000                 0  \n",
       "1           38.825898                 0  \n",
       "2           35.014271                 1  \n",
       "3           34.223992                 1  \n",
       "4           32.997729                 1  \n",
       "5           33.464577                 1  \n",
       "6           31.099498                 1  \n",
       "7           26.546993                 1  \n",
       "8           24.365505                 1  \n",
       "9           22.050126                 1  "
      ]
     },
     "execution_count": 265,
     "metadata": {},
     "output_type": "execute_result"
    }
   ],
   "source": [
    "# Dependencies and Setup\n",
    "import matplotlib.pyplot as plt\n",
    "import pandas as pd\n",
    "import scipy.stats as st\n",
    "import numpy as np\n",
    "from scipy.stats import linregress\n",
    "\n",
    "pd.options.display.max_rows = 2000\n",
    "\n",
    "# Study data files\n",
    "mouse_metadata_path = \"data/Mouse_metadata.csv\"\n",
    "study_results_path = \"data/Study_results.csv\"\n",
    "\n",
    "# Read the mouse data and the study results\n",
    "mouse_metadata = pd.read_csv(mouse_metadata_path)\n",
    "study_results = pd.read_csv(study_results_path)\n",
    "\n",
    "# Combine the data into a single dataset\n",
    "print(mouse_metadata.head())\n",
    "print(study_results.head())\n",
    "\n",
    "merge_df = pd.merge(mouse_metadata, study_results, on=\"Mouse ID\")\n",
    "merge_df.head(10)"
   ]
  },
  {
   "cell_type": "code",
   "execution_count": 3,
   "metadata": {},
   "outputs": [],
   "source": [
    "combined_df = merge_df.copy()"
   ]
  },
  {
   "cell_type": "code",
   "execution_count": 4,
   "metadata": {},
   "outputs": [
    {
     "name": "stdout",
     "output_type": "stream",
     "text": [
      "The number of different mice in the study is 249.\n"
     ]
    }
   ],
   "source": [
    "# Checking the number of mice in the DataFrame.\n",
    "length_of_list = combined_df['Mouse ID'].unique()\n",
    "length = len(length_of_list)\n",
    "print(f'The number of different mice in the study is {length}.')"
   ]
  },
  {
   "cell_type": "code",
   "execution_count": 5,
   "metadata": {
    "scrolled": false
   },
   "outputs": [],
   "source": [
    "# Getting the duplicate mice by ID number that shows up for Mouse ID and Timepoint. \n",
    "\n",
    "#grouped_id = combined_df.groupby(['Mouse ID', 'Timepoint'])\n",
    "#counted_grouped = grouped_id.count()\n",
    "#counted_grouped.head(20)\n"
   ]
  },
  {
   "cell_type": "code",
   "execution_count": 6,
   "metadata": {},
   "outputs": [],
   "source": [
    "# Optional: Get all the data for the duplicate mouse ID. \n"
   ]
  },
  {
   "cell_type": "code",
   "execution_count": 7,
   "metadata": {},
   "outputs": [
    {
     "data": {
      "text/html": [
       "<div>\n",
       "<style scoped>\n",
       "    .dataframe tbody tr th:only-of-type {\n",
       "        vertical-align: middle;\n",
       "    }\n",
       "\n",
       "    .dataframe tbody tr th {\n",
       "        vertical-align: top;\n",
       "    }\n",
       "\n",
       "    .dataframe thead th {\n",
       "        text-align: right;\n",
       "    }\n",
       "</style>\n",
       "<table border=\"1\" class=\"dataframe\">\n",
       "  <thead>\n",
       "    <tr style=\"text-align: right;\">\n",
       "      <th></th>\n",
       "      <th>Mouse ID</th>\n",
       "      <th>Drug Regimen</th>\n",
       "      <th>Sex</th>\n",
       "      <th>Age_months</th>\n",
       "      <th>Weight (g)</th>\n",
       "      <th>Timepoint</th>\n",
       "      <th>Tumor Volume (mm3)</th>\n",
       "      <th>Metastatic Sites</th>\n",
       "    </tr>\n",
       "  </thead>\n",
       "  <tbody>\n",
       "    <tr>\n",
       "      <td>9</td>\n",
       "      <td>k403</td>\n",
       "      <td>Ramicane</td>\n",
       "      <td>Male</td>\n",
       "      <td>21</td>\n",
       "      <td>16</td>\n",
       "      <td>45</td>\n",
       "      <td>22.050126</td>\n",
       "      <td>1</td>\n",
       "    </tr>\n",
       "    <tr>\n",
       "      <td>19</td>\n",
       "      <td>s185</td>\n",
       "      <td>Capomulin</td>\n",
       "      <td>Female</td>\n",
       "      <td>3</td>\n",
       "      <td>17</td>\n",
       "      <td>45</td>\n",
       "      <td>23.343598</td>\n",
       "      <td>1</td>\n",
       "    </tr>\n",
       "    <tr>\n",
       "      <td>29</td>\n",
       "      <td>x401</td>\n",
       "      <td>Capomulin</td>\n",
       "      <td>Female</td>\n",
       "      <td>16</td>\n",
       "      <td>15</td>\n",
       "      <td>45</td>\n",
       "      <td>28.484033</td>\n",
       "      <td>0</td>\n",
       "    </tr>\n",
       "    <tr>\n",
       "      <td>39</td>\n",
       "      <td>m601</td>\n",
       "      <td>Capomulin</td>\n",
       "      <td>Male</td>\n",
       "      <td>22</td>\n",
       "      <td>17</td>\n",
       "      <td>45</td>\n",
       "      <td>28.430964</td>\n",
       "      <td>1</td>\n",
       "    </tr>\n",
       "    <tr>\n",
       "      <td>49</td>\n",
       "      <td>g791</td>\n",
       "      <td>Ramicane</td>\n",
       "      <td>Male</td>\n",
       "      <td>11</td>\n",
       "      <td>16</td>\n",
       "      <td>45</td>\n",
       "      <td>29.128472</td>\n",
       "      <td>1</td>\n",
       "    </tr>\n",
       "  </tbody>\n",
       "</table>\n",
       "</div>"
      ],
      "text/plain": [
       "   Mouse ID Drug Regimen     Sex  Age_months  Weight (g)  Timepoint  \\\n",
       "9      k403     Ramicane    Male          21          16         45   \n",
       "19     s185    Capomulin  Female           3          17         45   \n",
       "29     x401    Capomulin  Female          16          15         45   \n",
       "39     m601    Capomulin    Male          22          17         45   \n",
       "49     g791     Ramicane    Male          11          16         45   \n",
       "\n",
       "    Tumor Volume (mm3)  Metastatic Sites  \n",
       "9            22.050126                 1  \n",
       "19           23.343598                 1  \n",
       "29           28.484033                 0  \n",
       "39           28.430964                 1  \n",
       "49           29.128472                 1  "
      ]
     },
     "execution_count": 7,
     "metadata": {},
     "output_type": "execute_result"
    }
   ],
   "source": [
    "# Create a clean DataFrame by dropping the duplicate mouse by its ID.\n",
    "cleaned_df = combined_df.drop_duplicates(subset='Mouse ID', keep='last')\n",
    "cleaned_df.head(5)"
   ]
  },
  {
   "cell_type": "code",
   "execution_count": 8,
   "metadata": {
    "scrolled": false
   },
   "outputs": [
    {
     "data": {
      "text/plain": [
       "249"
      ]
     },
     "execution_count": 8,
     "metadata": {},
     "output_type": "execute_result"
    }
   ],
   "source": [
    "# Checking the number of mice in the clean DataFrame.\n",
    "counted_mice = cleaned_df['Mouse ID'].value_counts()\n",
    "len(counted_mice)"
   ]
  },
  {
   "cell_type": "code",
   "execution_count": 9,
   "metadata": {},
   "outputs": [
    {
     "data": {
      "text/plain": [
       "Naftisol     25\n",
       "Infubinol    25\n",
       "Capomulin    25\n",
       "Ceftamin     25\n",
       "Ketapril     25\n",
       "Placebo      25\n",
       "Ramicane     25\n",
       "Zoniferol    25\n",
       "Propriva     25\n",
       "Stelasyn     24\n",
       "Name: Drug Regimen, dtype: int64"
      ]
     },
     "execution_count": 9,
     "metadata": {},
     "output_type": "execute_result"
    }
   ],
   "source": [
    "count_regimens = cleaned_df['Drug Regimen'].value_counts()\n",
    "count_regimens"
   ]
  },
  {
   "cell_type": "markdown",
   "metadata": {},
   "source": [
    "## Summary Statistics"
   ]
  },
  {
   "cell_type": "code",
   "execution_count": 66,
   "metadata": {},
   "outputs": [],
   "source": [
    "# Generate a summary statistics table of mean, median, variance, standard deviation, and SEM of the tumor volume for each regimen\n",
    "\n",
    "# This method is the most straighforward, creating multiple series and putting them all together at the end."
   ]
  },
  {
   "cell_type": "code",
   "execution_count": 146,
   "metadata": {},
   "outputs": [
    {
     "name": "stdout",
     "output_type": "stream",
     "text": [
      "57.75\n",
      "59.85\n",
      "69.98\n",
      "8.37\n",
      "1.67\n"
     ]
    }
   ],
   "source": [
    "#Ceftamin df\n",
    "\n",
    "ceftamin_df = cleaned_df.loc[cleaned_df['Drug Regimen'] == 'Ceftamin', :]\n",
    "ceftamin_df.head()\n",
    "\n",
    "ceftamin_mean = round(ceftamin_df['Tumor Volume (mm3)'].mean(), 2)\n",
    "ceftamin_median = round(ceftamin_df['Tumor Volume (mm3)'].median(), 2)\n",
    "ceftamin_var = round(ceftamin_df['Tumor Volume (mm3)'].var(), 2)\n",
    "ceftamin_std = round(ceftamin_df['Tumor Volume (mm3)'].std(), 2)\n",
    "ceftamin_sem = round(ceftamin_df['Tumor Volume (mm3)'].sem(), 2)\n",
    "\n",
    "print(ceftamin_mean)\n",
    "print(ceftamin_median)\n",
    "print(ceftamin_var)\n",
    "print(ceftamin_std)\n",
    "print(ceftamin_sem)"
   ]
  },
  {
   "cell_type": "code",
   "execution_count": 147,
   "metadata": {},
   "outputs": [
    {
     "name": "stdout",
     "output_type": "stream",
     "text": [
      "36.67\n",
      "38.13\n",
      "32.66\n",
      "5.72\n",
      "1.14\n"
     ]
    }
   ],
   "source": [
    "#Capomulin df\n",
    "\n",
    "capomulin_df = cleaned_df.loc[cleaned_df['Drug Regimen'] == 'Capomulin', :]\n",
    "capomulin_df.head()\n",
    "\n",
    "capomulin_mean = round(capomulin_df['Tumor Volume (mm3)'].mean(), 2)\n",
    "capomulin_median = round(capomulin_df['Tumor Volume (mm3)'].median(), 2)\n",
    "capomulin_var = round(capomulin_df['Tumor Volume (mm3)'].var(), 2)\n",
    "capomulin_std = round(capomulin_df['Tumor Volume (mm3)'].std(), 2)\n",
    "capomulin_sem = round(capomulin_df['Tumor Volume (mm3)'].sem(), 2)\n",
    "\n",
    "print(capomulin_mean)\n",
    "print(capomulin_median)\n",
    "print(capomulin_var)\n",
    "print(capomulin_std)\n",
    "print(capomulin_sem)"
   ]
  },
  {
   "cell_type": "code",
   "execution_count": 30,
   "metadata": {},
   "outputs": [
    {
     "name": "stdout",
     "output_type": "stream",
     "text": [
      "36.19\n",
      "36.56\n",
      "32.17\n",
      "5.67\n",
      "1.13\n"
     ]
    }
   ],
   "source": [
    "#Ramicane df\n",
    "\n",
    "ramicane_df = cleaned_df.loc[cleaned_df['Drug Regimen'] == 'Ramicane', :]\n",
    "ramicane_df.head()\n",
    "\n",
    "ramicane_mean = round(ramicane_df['Tumor Volume (mm3)'].mean(), 2)\n",
    "ramicane_median = round(ramicane_df['Tumor Volume (mm3)'].median(), 2)\n",
    "ramicane_var = round(ramicane_df['Tumor Volume (mm3)'].var(), 2)\n",
    "ramicane_std = round(ramicane_df['Tumor Volume (mm3)'].std(), 2)\n",
    "ramicane_sem = round(ramicane_df['Tumor Volume (mm3)'].sem(), 2)\n",
    "\n",
    "print(ramicane_mean)\n",
    "print(ramicane_median)\n",
    "print(ramicane_var)\n",
    "print(ramicane_std)\n",
    "print(ramicane_sem)"
   ]
  },
  {
   "cell_type": "code",
   "execution_count": 29,
   "metadata": {},
   "outputs": [
    {
     "name": "stdout",
     "output_type": "stream",
     "text": [
      "62.81\n",
      "64.49\n",
      "98.92\n",
      "9.95\n",
      "1.99\n"
     ]
    }
   ],
   "source": [
    "#Ketapril df\n",
    "\n",
    "ketapril_df = cleaned_df.loc[cleaned_df['Drug Regimen'] == 'Ketapril', :]\n",
    "ketapril_df.head()\n",
    "\n",
    "ketapril_mean = round(ketapril_df['Tumor Volume (mm3)'].mean(), 2)\n",
    "ketapril_median = round(ketapril_df['Tumor Volume (mm3)'].median(), 2)\n",
    "ketapril_var = round(ketapril_df['Tumor Volume (mm3)'].var(), 2)\n",
    "ketapril_std = round(ketapril_df['Tumor Volume (mm3)'].std(), 2)\n",
    "ketapril_sem = round(ketapril_df['Tumor Volume (mm3)'].sem(), 2)\n",
    "\n",
    "print(ketapril_mean)\n",
    "print(ketapril_median)\n",
    "print(ketapril_var)\n",
    "print(ketapril_std)\n",
    "print(ketapril_sem)"
   ]
  },
  {
   "cell_type": "code",
   "execution_count": 28,
   "metadata": {},
   "outputs": [
    {
     "name": "stdout",
     "output_type": "stream",
     "text": [
      "58.18\n",
      "60.17\n",
      "74.01\n",
      "8.6\n",
      "1.72\n"
     ]
    }
   ],
   "source": [
    "#Infubinol df\n",
    "\n",
    "infubinol_df = cleaned_df.loc[cleaned_df['Drug Regimen'] == 'Infubinol', :]\n",
    "infubinol_df.head()\n",
    "\n",
    "infubinol_mean = round(infubinol_df['Tumor Volume (mm3)'].mean(), 2)\n",
    "infubinol_median = round(infubinol_df['Tumor Volume (mm3)'].median(), 2)\n",
    "infubinol_var = round(infubinol_df['Tumor Volume (mm3)'].var(), 2)\n",
    "infubinol_std = round(infubinol_df['Tumor Volume (mm3)'].std(), 2)\n",
    "infubinol_sem = round(infubinol_df['Tumor Volume (mm3)'].sem(), 2)\n",
    "\n",
    "print(infubinol_mean)\n",
    "print(infubinol_median)\n",
    "print(infubinol_var)\n",
    "print(infubinol_std)\n",
    "print(infubinol_sem)"
   ]
  },
  {
   "cell_type": "code",
   "execution_count": 27,
   "metadata": {},
   "outputs": [
    {
     "name": "stdout",
     "output_type": "stream",
     "text": [
      "59.18\n",
      "61.84\n",
      "76.86\n",
      "8.77\n",
      "1.75\n"
     ]
    }
   ],
   "source": [
    "#Zoniferol df\n",
    "\n",
    "zoniferol_df = cleaned_df.loc[cleaned_df['Drug Regimen'] == 'Zoniferol', :]\n",
    "zoniferol_df.head()\n",
    "\n",
    "zoniferol_mean = round(zoniferol_df['Tumor Volume (mm3)'].mean(), 2)\n",
    "zoniferol_median = round(zoniferol_df['Tumor Volume (mm3)'].median(), 2)\n",
    "zoniferol_var = round(zoniferol_df['Tumor Volume (mm3)'].var(), 2)\n",
    "zoniferol_std = round(zoniferol_df['Tumor Volume (mm3)'].std(), 2)\n",
    "zoniferol_sem = round(zoniferol_df['Tumor Volume (mm3)'].sem(), 2)\n",
    "\n",
    "print(zoniferol_mean)\n",
    "print(zoniferol_median)\n",
    "print(zoniferol_var)\n",
    "print(zoniferol_std)\n",
    "print(zoniferol_sem)"
   ]
  },
  {
   "cell_type": "code",
   "execution_count": 26,
   "metadata": {},
   "outputs": [
    {
     "name": "stdout",
     "output_type": "stream",
     "text": [
      "56.74\n",
      "55.84\n",
      "69.35\n",
      "8.33\n",
      "1.67\n"
     ]
    }
   ],
   "source": [
    "#Propriva df\n",
    "\n",
    "propriva_df = cleaned_df.loc[cleaned_df['Drug Regimen'] == 'Propriva', :]\n",
    "propriva_df.head()\n",
    "\n",
    "propriva_mean = round(propriva_df['Tumor Volume (mm3)'].mean(), 2)\n",
    "propriva_median = round(propriva_df['Tumor Volume (mm3)'].median(), 2)\n",
    "propriva_var = round(propriva_df['Tumor Volume (mm3)'].var(), 2)\n",
    "propriva_std = round(propriva_df['Tumor Volume (mm3)'].std(), 2)\n",
    "propriva_sem = round(propriva_df['Tumor Volume (mm3)'].sem(), 2)\n",
    "\n",
    "print(propriva_mean)\n",
    "print(propriva_median)\n",
    "print(propriva_var)\n",
    "print(propriva_std)\n",
    "print(propriva_sem)"
   ]
  },
  {
   "cell_type": "code",
   "execution_count": 25,
   "metadata": {},
   "outputs": [
    {
     "name": "stdout",
     "output_type": "stream",
     "text": [
      "61.21\n",
      "63.28\n",
      "106.03\n",
      "10.3\n",
      "2.06\n"
     ]
    }
   ],
   "source": [
    "#Naftisol df\n",
    "\n",
    "naftisol_df = cleaned_df.loc[cleaned_df['Drug Regimen'] == 'Naftisol', :]\n",
    "naftisol_df.head()\n",
    "\n",
    "naftisol_mean = round(naftisol_df['Tumor Volume (mm3)'].mean(), 2)\n",
    "naftisol_median = round(naftisol_df['Tumor Volume (mm3)'].median(), 2)\n",
    "naftisol_var = round(naftisol_df['Tumor Volume (mm3)'].var(), 2)\n",
    "naftisol_std = round(naftisol_df['Tumor Volume (mm3)'].std(), 2)\n",
    "naftisol_sem = round(naftisol_df['Tumor Volume (mm3)'].sem(), 2)\n",
    "\n",
    "print(naftisol_mean)\n",
    "print(naftisol_median)\n",
    "print(naftisol_var)\n",
    "print(naftisol_std)\n",
    "print(naftisol_sem)"
   ]
  },
  {
   "cell_type": "code",
   "execution_count": 24,
   "metadata": {},
   "outputs": [
    {
     "name": "stdout",
     "output_type": "stream",
     "text": [
      "60.51\n",
      "62.03\n",
      "78.76\n",
      "8.87\n",
      "1.77\n"
     ]
    }
   ],
   "source": [
    "#Placebo df\n",
    "\n",
    "placebo_df = cleaned_df.loc[cleaned_df['Drug Regimen'] == 'Placebo', :]\n",
    "placebo_df.head()\n",
    "\n",
    "placebo_mean = round(placebo_df['Tumor Volume (mm3)'].mean(), 2)\n",
    "placebo_median = round(placebo_df['Tumor Volume (mm3)'].median(), 2)\n",
    "placebo_var = round(placebo_df['Tumor Volume (mm3)'].var(), 2)\n",
    "placebo_std = round(placebo_df['Tumor Volume (mm3)'].std(), 2)\n",
    "placebo_sem = round(placebo_df['Tumor Volume (mm3)'].sem(), 2)\n",
    "\n",
    "print(placebo_mean)\n",
    "print(placebo_median)\n",
    "print(placebo_var)\n",
    "print(placebo_std)\n",
    "print(placebo_sem)"
   ]
  },
  {
   "cell_type": "code",
   "execution_count": 23,
   "metadata": {},
   "outputs": [
    {
     "name": "stdout",
     "output_type": "stream",
     "text": [
      "61.0\n",
      "62.19\n",
      "90.33\n",
      "9.5\n",
      "1.94\n"
     ]
    }
   ],
   "source": [
    "#Stelasyn df\n",
    "\n",
    "stelasyn_df = cleaned_df.loc[cleaned_df['Drug Regimen'] == 'Stelasyn', :]\n",
    "stelasyn_df.head()\n",
    "\n",
    "stelasyn_mean = round(stelasyn_df['Tumor Volume (mm3)'].mean(), 2)\n",
    "stelasyn_median = round(stelasyn_df['Tumor Volume (mm3)'].median(), 2)\n",
    "stelasyn_var = round(stelasyn_df['Tumor Volume (mm3)'].var(), 2)\n",
    "stelasyn_std = round(stelasyn_df['Tumor Volume (mm3)'].std(), 2)\n",
    "stelasyn_sem = round(stelasyn_df['Tumor Volume (mm3)'].sem(), 2)\n",
    "\n",
    "print(stelasyn_mean)\n",
    "print(stelasyn_median)\n",
    "print(stelasyn_var)\n",
    "print(stelasyn_std)\n",
    "print(stelasyn_sem)"
   ]
  },
  {
   "cell_type": "markdown",
   "metadata": {},
   "source": [
    "## Summary Statistics tablefor tumor size per regimen"
   ]
  },
  {
   "cell_type": "code",
   "execution_count": 35,
   "metadata": {},
   "outputs": [
    {
     "data": {
      "text/html": [
       "<div>\n",
       "<style scoped>\n",
       "    .dataframe tbody tr th:only-of-type {\n",
       "        vertical-align: middle;\n",
       "    }\n",
       "\n",
       "    .dataframe tbody tr th {\n",
       "        vertical-align: top;\n",
       "    }\n",
       "\n",
       "    .dataframe thead th {\n",
       "        text-align: right;\n",
       "    }\n",
       "</style>\n",
       "<table border=\"1\" class=\"dataframe\">\n",
       "  <thead>\n",
       "    <tr style=\"text-align: right;\">\n",
       "      <th></th>\n",
       "      <th>Regimen</th>\n",
       "      <th>Mean</th>\n",
       "      <th>Median</th>\n",
       "      <th>Variance</th>\n",
       "      <th>Std</th>\n",
       "      <th>SEM</th>\n",
       "    </tr>\n",
       "  </thead>\n",
       "  <tbody>\n",
       "    <tr>\n",
       "      <td>0</td>\n",
       "      <td>Ceftamin</td>\n",
       "      <td>57.75</td>\n",
       "      <td>59.85</td>\n",
       "      <td>69.98</td>\n",
       "      <td>8.37</td>\n",
       "      <td>1.67</td>\n",
       "    </tr>\n",
       "    <tr>\n",
       "      <td>1</td>\n",
       "      <td>Capomulin</td>\n",
       "      <td>36.67</td>\n",
       "      <td>38.13</td>\n",
       "      <td>32.66</td>\n",
       "      <td>5.72</td>\n",
       "      <td>1.14</td>\n",
       "    </tr>\n",
       "    <tr>\n",
       "      <td>2</td>\n",
       "      <td>Ramicane</td>\n",
       "      <td>36.19</td>\n",
       "      <td>36.56</td>\n",
       "      <td>32.17</td>\n",
       "      <td>5.67</td>\n",
       "      <td>1.13</td>\n",
       "    </tr>\n",
       "    <tr>\n",
       "      <td>3</td>\n",
       "      <td>Ketapril</td>\n",
       "      <td>62.81</td>\n",
       "      <td>64.49</td>\n",
       "      <td>98.92</td>\n",
       "      <td>9.95</td>\n",
       "      <td>1.99</td>\n",
       "    </tr>\n",
       "    <tr>\n",
       "      <td>4</td>\n",
       "      <td>Infubinol</td>\n",
       "      <td>58.18</td>\n",
       "      <td>60.17</td>\n",
       "      <td>74.01</td>\n",
       "      <td>8.60</td>\n",
       "      <td>1.72</td>\n",
       "    </tr>\n",
       "    <tr>\n",
       "      <td>5</td>\n",
       "      <td>Zoniferol</td>\n",
       "      <td>59.18</td>\n",
       "      <td>61.84</td>\n",
       "      <td>76.86</td>\n",
       "      <td>8.77</td>\n",
       "      <td>1.75</td>\n",
       "    </tr>\n",
       "    <tr>\n",
       "      <td>6</td>\n",
       "      <td>Propriva</td>\n",
       "      <td>56.74</td>\n",
       "      <td>55.84</td>\n",
       "      <td>69.35</td>\n",
       "      <td>8.33</td>\n",
       "      <td>1.67</td>\n",
       "    </tr>\n",
       "    <tr>\n",
       "      <td>7</td>\n",
       "      <td>Naftisol</td>\n",
       "      <td>61.21</td>\n",
       "      <td>63.28</td>\n",
       "      <td>106.03</td>\n",
       "      <td>10.30</td>\n",
       "      <td>2.06</td>\n",
       "    </tr>\n",
       "    <tr>\n",
       "      <td>8</td>\n",
       "      <td>Placebo</td>\n",
       "      <td>60.51</td>\n",
       "      <td>62.03</td>\n",
       "      <td>78.76</td>\n",
       "      <td>8.87</td>\n",
       "      <td>1.77</td>\n",
       "    </tr>\n",
       "    <tr>\n",
       "      <td>9</td>\n",
       "      <td>Stelasyn</td>\n",
       "      <td>61.00</td>\n",
       "      <td>62.19</td>\n",
       "      <td>90.33</td>\n",
       "      <td>9.50</td>\n",
       "      <td>1.94</td>\n",
       "    </tr>\n",
       "  </tbody>\n",
       "</table>\n",
       "</div>"
      ],
      "text/plain": [
       "     Regimen   Mean  Median  Variance    Std   SEM\n",
       "0   Ceftamin  57.75   59.85     69.98   8.37  1.67\n",
       "1  Capomulin  36.67   38.13     32.66   5.72  1.14\n",
       "2   Ramicane  36.19   36.56     32.17   5.67  1.13\n",
       "3   Ketapril  62.81   64.49     98.92   9.95  1.99\n",
       "4  Infubinol  58.18   60.17     74.01   8.60  1.72\n",
       "5  Zoniferol  59.18   61.84     76.86   8.77  1.75\n",
       "6   Propriva  56.74   55.84     69.35   8.33  1.67\n",
       "7   Naftisol  61.21   63.28    106.03  10.30  2.06\n",
       "8    Placebo  60.51   62.03     78.76   8.87  1.77\n",
       "9   Stelasyn  61.00   62.19     90.33   9.50  1.94"
      ]
     },
     "execution_count": 35,
     "metadata": {},
     "output_type": "execute_result"
    }
   ],
   "source": [
    "#Generate a summary statistics table of mean, median, variance, standard deviation, and SEM of the tumor volume for each regimen\n",
    "\n",
    "complete_df = pd.DataFrame({\n",
    "    \"Regimen\": [\"Ceftamin\", \"Capomulin\", \"Ramicane\", \"Ketapril\", \"Infubinol\", \"Zoniferol\", \"Propriva\", \"Naftisol\", \"Placebo\", \"Stelasyn\"],\n",
    "    \"Mean\": [ceftamin_mean, capomulin_mean, ramicane_mean, ketapril_mean, infubinol_mean, zoniferol_mean, propriva_mean, naftisol_mean, placebo_mean, stelasyn_mean],\n",
    "    \"Median\": [ceftamin_median, capomulin_median, ramicane_median, ketapril_median, infubinol_median, zoniferol_median, propriva_median, naftisol_median, placebo_median, stelasyn_median],\n",
    "    \"Variance\": [ceftamin_var, capomulin_var, ramicane_var, ketapril_var, infubinol_var, zoniferol_var, propriva_var, naftisol_var, placebo_var, stelasyn_var],\n",
    "    \"Std\": [ceftamin_std, capomulin_std, ramicane_std, ketapril_std, infubinol_std, zoniferol_std, propriva_std, naftisol_std, placebo_std, stelasyn_std],\n",
    "    \"SEM\": [ceftamin_sem, capomulin_sem, ramicane_sem, ketapril_sem, infubinol_sem, zoniferol_sem, propriva_sem, naftisol_sem, placebo_sem, stelasyn_sem]\n",
    "    \n",
    "})\n",
    "\n",
    "complete_df"
   ]
  },
  {
   "cell_type": "code",
   "execution_count": null,
   "metadata": {},
   "outputs": [],
   "source": []
  },
  {
   "cell_type": "markdown",
   "metadata": {},
   "source": [
    "## Bar Plots"
   ]
  },
  {
   "cell_type": "code",
   "execution_count": 142,
   "metadata": {
    "scrolled": false
   },
   "outputs": [
    {
     "data": {
      "image/png": "[encoded data removed]",
      "text/plain": [
       "<Figure size 432x288 with 1 Axes>"
      ]
     },
     "metadata": {
      "needs_background": "light"
     },
     "output_type": "display_data"
    },
    {
     "data": {
      "image/png": "[encoded data removed]",
      "text/plain": [
       "<Figure size 432x288 with 1 Axes>"
      ]
     },
     "metadata": {
      "needs_background": "light"
     },
     "output_type": "display_data"
    },
    {
     "data": {
      "image/png": "[encoded data removed]",
      "text/plain": [
       "<Figure size 432x288 with 1 Axes>"
      ]
     },
     "metadata": {
      "needs_background": "light"
     },
     "output_type": "display_data"
    },
    {
     "data": {
      "image/png": "[encoded data removed]",
      "text/plain": [
       "<Figure size 432x288 with 1 Axes>"
      ]
     },
     "metadata": {
      "needs_background": "light"
     },
     "output_type": "display_data"
    },
    {
     "data": {
      "image/png": "[encoded data removed]",
      "text/plain": [
       "<Figure size 432x288 with 1 Axes>"
      ]
     },
     "metadata": {
      "needs_background": "light"
     },
     "output_type": "display_data"
    },
    {
     "data": {
      "image/png": "[encoded data removed]",
      "text/plain": [
       "<Figure size 432x288 with 1 Axes>"
      ]
     },
     "metadata": {
      "needs_background": "light"
     },
     "output_type": "display_data"
    },
    {
     "data": {
      "image/png": "[encoded data removed]",
      "text/plain": [
       "<Figure size 432x288 with 1 Axes>"
      ]
     },
     "metadata": {
      "needs_background": "light"
     },
     "output_type": "display_data"
    },
    {
     "data": {
      "image/png": "[encoded data removed]",
      "text/plain": [
       "<Figure size 432x288 with 1 Axes>"
      ]
     },
     "metadata": {
      "needs_background": "light"
     },
     "output_type": "display_data"
    },
    {
     "data": {
      "image/png": "[encoded data removed]",
      "text/plain": [
       "<Figure size 432x288 with 1 Axes>"
      ]
     },
     "metadata": {
      "needs_background": "light"
     },
     "output_type": "display_data"
    },
    {
     "data": {
      "image/png": "[encoded data removed]",
      "text/plain": [
       "<Figure size 432x288 with 1 Axes>"
      ]
     },
     "metadata": {
      "needs_background": "light"
     },
     "output_type": "display_data"
    }
   ],
   "source": [
    "# Generate a bar plot showing the number of mice per time point for each treatment throughout the course of the study using pandas.\n",
    "\n",
    "#ceftamin\n",
    "ceftamin_time = ceftamin_df.copy()\n",
    "ceftamin_time_group = ceftamin_time.groupby('Timepoint')\n",
    "ceftamin_time_count = ceftamin_time_group['Mouse ID'].count()\n",
    "ceftamin_time_count.plot(kind='bar', legend=False, title='Mice per Timepoint (Ceftamin)')\n",
    "plt.xlabel('Timepoints (mins)')\n",
    "plt.ylabel('Number of Mice')\n",
    "\n",
    "plt.show()\n",
    "\n",
    "#capomulin\n",
    "capomulin_time = capomulin_df.copy()\n",
    "capomulin_time_group = capomulin_time.groupby('Timepoint')\n",
    "capomulin_time_count = capomulin_time_group['Mouse ID'].count()\n",
    "capomulin_time_count.plot(kind='bar', legend=False, title='Mice per Timepoint (capomulin)')\n",
    "plt.xlabel('Timepoints (mins)')\n",
    "plt.ylabel('Number of Mice')\n",
    "\n",
    "plt.show()\n",
    "\n",
    "#ramicane\n",
    "ramicane_time = ramicane_df.copy()\n",
    "ramicane_time_group = ramicane_time.groupby('Timepoint')\n",
    "ramicane_time_count = ramicane_time_group['Mouse ID'].count()\n",
    "ramicane_time_count.plot(kind='bar', legend=False, title='Mice per Timepoint (ramicane)')\n",
    "plt.xlabel('Timepoints (mins)')\n",
    "plt.ylabel('Number of Mice')\n",
    "\n",
    "plt.show()\n",
    "\n",
    "#ketapril\n",
    "ketapril_time = ketapril_df.copy()\n",
    "ketapril_time_group = ketapril_time.groupby('Timepoint')\n",
    "ketapril_time_count = ketapril_time_group['Mouse ID'].count()\n",
    "ketapril_time_count.plot(kind='bar', legend=False, title='Mice per Timepoint (ketapril)')\n",
    "plt.xlabel('Timepoints (mins)')\n",
    "plt.ylabel('Number of Mice')\n",
    "\n",
    "plt.show()\n",
    "\n",
    "\n",
    "#infubinol\n",
    "infubinol_time = infubinol_df.copy()\n",
    "infubinol_time_group = infubinol_time.groupby('Timepoint')\n",
    "infubinol_time_count = infubinol_time_group['Mouse ID'].count()\n",
    "infubinol_time_count.plot(kind='bar', legend=False, title='Mice per Timepoint (infubinol)')\n",
    "plt.xlabel('Timepoints (mins)')\n",
    "plt.ylabel('Number of Mice')\n",
    "\n",
    "plt.show()\n",
    "\n",
    "#zoniferol\n",
    "zoniferol_time = zoniferol_df.copy()\n",
    "zoniferol_time_group = zoniferol_time.groupby('Timepoint')\n",
    "zoniferol_time_count = zoniferol_time_group['Mouse ID'].count()\n",
    "zoniferol_time_count.plot(kind='bar', legend=False, title='Mice per Timepoint (zoniferol)')\n",
    "plt.xlabel('Timepoints (mins)')\n",
    "plt.ylabel('Number of Mice')\n",
    "\n",
    "plt.show()\n",
    "\n",
    "\n",
    "#propriva\n",
    "propriva_time = propriva_df.copy()\n",
    "propriva_time_group = propriva_time.groupby('Timepoint')\n",
    "propriva_time_count = propriva_time_group['Mouse ID'].count()\n",
    "propriva_time_count.plot(kind='bar', legend=False, title='Mice per Timepoint (propriva)')\n",
    "plt.xlabel('Timepoints (mins)')\n",
    "plt.ylabel('Number of Mice')\n",
    "\n",
    "plt.show()\n",
    "\n",
    "\n",
    "#naftisol\n",
    "naftisol_time = naftisol_df.copy()\n",
    "naftisol_time_group = naftisol_time.groupby('Timepoint')\n",
    "naftisol_time_count = naftisol_time_group['Mouse ID'].count()\n",
    "naftisol_time_count.plot(kind='bar', legend=False, title='Mice per Timepoint (naftisol)')\n",
    "plt.xlabel('Timepoints (mins)')\n",
    "plt.ylabel('Number of Mice')\n",
    "\n",
    "plt.show()\n",
    "\n",
    "\n",
    "#placebo\n",
    "placebo_time = placebo_df.copy()\n",
    "placebo_time_group = placebo_time.groupby('Timepoint')\n",
    "placebo_time_count = placebo_time_group['Mouse ID'].count()\n",
    "placebo_time_count.plot(kind='bar', legend=False, title='Mice per Timepoint (placebo)')\n",
    "plt.xlabel('Timepoints (mins)')\n",
    "plt.ylabel('Number of Mice')\n",
    "\n",
    "plt.show()\n",
    "\n",
    "\n",
    "#stelasyn\n",
    "stelasyn_time = stelasyn_df.copy()\n",
    "stelasyn_time_group = stelasyn_time.groupby('Timepoint')\n",
    "stelasyn_time_count = stelasyn_time_group['Mouse ID'].count()\n",
    "stelasyn_time_count.plot(kind='bar', legend=False, title='Mice per Timepoint (stelasyn)')\n",
    "plt.xlabel('Timepoints (mins)')\n",
    "plt.ylabel('Number of Mice')\n",
    "\n",
    "plt.show()\n"
   ]
  },
  {
   "cell_type": "code",
   "execution_count": 140,
   "metadata": {
    "scrolled": false
   },
   "outputs": [
    {
     "data": {
      "image/png": "[encoded data removed]",
      "text/plain": [
       "<Figure size 432x288 with 1 Axes>"
      ]
     },
     "metadata": {
      "needs_background": "light"
     },
     "output_type": "display_data"
    },
    {
     "data": {
      "image/png": "[encoded data removed]",
      "text/plain": [
       "<Figure size 432x288 with 1 Axes>"
      ]
     },
     "metadata": {
      "needs_background": "light"
     },
     "output_type": "display_data"
    },
    {
     "data": {
      "image/png": "[encoded data removed]",
      "text/plain": [
       "<Figure size 432x288 with 1 Axes>"
      ]
     },
     "metadata": {
      "needs_background": "light"
     },
     "output_type": "display_data"
    },
    {
     "data": {
      "image/png": "[encoded data removed]",
      "text/plain": [
       "<Figure size 432x288 with 1 Axes>"
      ]
     },
     "metadata": {
      "needs_background": "light"
     },
     "output_type": "display_data"
    },
    {
     "data": {
      "image/png": "[encoded data removed]",
      "text/plain": [
       "<Figure size 432x288 with 1 Axes>"
      ]
     },
     "metadata": {
      "needs_background": "light"
     },
     "output_type": "display_data"
    },
    {
     "data": {
      "image/png": "[encoded data removed]",
      "text/plain": [
       "<Figure size 432x288 with 1 Axes>"
      ]
     },
     "metadata": {
      "needs_background": "light"
     },
     "output_type": "display_data"
    },
    {
     "data": {
      "image/png": "[encoded data removed]",
      "text/plain": [
       "<Figure size 432x288 with 1 Axes>"
      ]
     },
     "metadata": {
      "needs_background": "light"
     },
     "output_type": "display_data"
    },
    {
     "data": {
      "image/png": "[encoded data removed]",
      "text/plain": [
       "<Figure size 432x288 with 1 Axes>"
      ]
     },
     "metadata": {
      "needs_background": "light"
     },
     "output_type": "display_data"
    },
    {
     "data": {
      "image/png": "[encoded data removed]",
      "text/plain": [
       "<Figure size 432x288 with 1 Axes>"
      ]
     },
     "metadata": {
      "needs_background": "light"
     },
     "output_type": "display_data"
    },
    {
     "data": {
      "image/png": "[encoded data removed]",
      "text/plain": [
       "<Figure size 432x288 with 1 Axes>"
      ]
     },
     "metadata": {
      "needs_background": "light"
     },
     "output_type": "display_data"
    }
   ],
   "source": [
    "# Generate a bar plot showing the number of mice per time point for each treatment throughout the course of the study using pyplot.\n",
    "#ceftamin_time_group = ceftamin_time.groupby('Timepoint')\n",
    "#ceftamin_time_count = ceftamin_time_group['Mouse ID'].count()\n",
    "\n",
    "\n",
    "#ceftamin\n",
    "ceftamin_x_axis = np.arange(len(ceftamin_time_group))\n",
    "ceftamin_tick_locations = [value for value in ceftamin_x_axis]\n",
    "\n",
    "ceftamin_y_axis = ceftamin_time_count\n",
    "plt.bar(ceftamin_x_axis, ceftamin_y_axis)\n",
    "plt.xticks(ceftamin_tick_locations, ceftamin_time_count.keys())\n",
    "\n",
    "plt.title('Mice per Timepoint (Ceftamin)')\n",
    "plt.xlabel('Timepoints (mins)')\n",
    "plt.ylabel('Number of Mice')\n",
    "\n",
    "plt.show()\n",
    "\n",
    "#capomulin\n",
    "capomulin_x_axis = np.arange(len(capomulin_time_group))\n",
    "capomulin_tick_locations = [value for value in capomulin_x_axis]\n",
    "\n",
    "capomulin_y_axis = capomulin_time_count\n",
    "plt.bar(capomulin_x_axis, capomulin_y_axis)\n",
    "plt.xticks(capomulin_tick_locations, capomulin_time_count.keys())\n",
    "\n",
    "plt.title('Mice per Timepoint (capomulin)')\n",
    "plt.xlabel('Timepoints (mins)')\n",
    "plt.ylabel('Number of Mice')\n",
    "\n",
    "plt.show()\n",
    "\n",
    "#ramicane\n",
    "ramicane_x_axis = np.arange(len(ramicane_time_group))\n",
    "ramicane_tick_locations = [value for value in ramicane_x_axis]\n",
    "\n",
    "ramicane_y_axis = ramicane_time_count\n",
    "plt.bar(ramicane_x_axis, ramicane_y_axis)\n",
    "plt.xticks(ramicane_tick_locations, ramicane_time_count.keys())\n",
    "\n",
    "plt.title('Mice per Timepoint (ramicane)')\n",
    "plt.xlabel('Timepoints (mins)')\n",
    "plt.ylabel('Number of Mice')\n",
    "\n",
    "plt.show()\n",
    "\n",
    "#ketapril\n",
    "ketapril_x_axis = np.arange(len(ketapril_time_group))\n",
    "ketapril_tick_locations = [value for value in ketapril_x_axis]\n",
    "\n",
    "ketapril_y_axis = ketapril_time_count\n",
    "plt.bar(ketapril_x_axis, ketapril_y_axis)\n",
    "plt.xticks(ketapril_tick_locations, ketapril_time_count.keys())\n",
    "\n",
    "plt.title('Mice per Timepoint (ketapril)')\n",
    "plt.xlabel('Timepoints (mins)')\n",
    "plt.ylabel('Number of Mice')\n",
    "\n",
    "plt.show()\n",
    "\n",
    "#infubinol\n",
    "infubinol_x_axis = np.arange(len(infubinol_time_group))\n",
    "infubinol_tick_locations = [value for value in infubinol_x_axis]\n",
    "\n",
    "infubinol_y_axis = infubinol_time_count\n",
    "plt.bar(infubinol_x_axis, infubinol_y_axis)\n",
    "plt.xticks(infubinol_tick_locations, infubinol_time_count.keys())\n",
    "\n",
    "plt.title('Mice per Timepoint (infubinol)')\n",
    "plt.xlabel('Timepoints (mins)')\n",
    "plt.ylabel('Number of Mice')\n",
    "\n",
    "plt.show()\n",
    "\n",
    "#zoniferol\n",
    "zoniferol_x_axis = np.arange(len(zoniferol_time_group))\n",
    "zoniferol_tick_locations = [value for value in zoniferol_x_axis]\n",
    "\n",
    "zoniferol_y_axis = zoniferol_time_count\n",
    "plt.bar(zoniferol_x_axis, zoniferol_y_axis)\n",
    "plt.xticks(zoniferol_tick_locations, zoniferol_time_count.keys())\n",
    "\n",
    "plt.title('Mice per Timepoint (zoniferol)')\n",
    "plt.xlabel('Timepoints (mins)')\n",
    "plt.ylabel('Number of Mice')\n",
    "\n",
    "plt.show()\n",
    "\n",
    "#propriva\n",
    "propriva_x_axis = np.arange(len(propriva_time_group))\n",
    "propriva_tick_locations = [value for value in propriva_x_axis]\n",
    "\n",
    "propriva_y_axis = propriva_time_count\n",
    "plt.bar(propriva_x_axis, propriva_y_axis)\n",
    "plt.xticks(propriva_tick_locations, propriva_time_count.keys())\n",
    "\n",
    "plt.title('Mice per Timepoint (propriva)')\n",
    "plt.xlabel('Timepoints (mins)')\n",
    "plt.ylabel('Number of Mice')\n",
    "\n",
    "plt.show()\n",
    "\n",
    "#naftisol\n",
    "naftisol_x_axis = np.arange(len(naftisol_time_group))\n",
    "naftisol_tick_locations = [value for value in naftisol_x_axis]\n",
    "\n",
    "naftisol_y_axis = naftisol_time_count\n",
    "plt.bar(naftisol_x_axis, naftisol_y_axis)\n",
    "plt.xticks(naftisol_tick_locations, naftisol_time_count.keys())\n",
    "\n",
    "plt.title('Mice per Timepoint (naftisol)')\n",
    "plt.xlabel('Timepoints (mins)')\n",
    "plt.ylabel('Number of Mice')\n",
    "\n",
    "plt.show()\n",
    "\n",
    "#placebo\n",
    "placebo_x_axis = np.arange(len(placebo_time_group))\n",
    "placebo_tick_locations = [value for value in placebo_x_axis]\n",
    "\n",
    "placebo_y_axis = placebo_time_count\n",
    "plt.bar(placebo_x_axis, placebo_y_axis)\n",
    "plt.xticks(placebo_tick_locations, placebo_time_count.keys())\n",
    "\n",
    "plt.title('Mice per Timepoint (placebo)')\n",
    "plt.xlabel('Timepoints (mins)')\n",
    "plt.ylabel('Number of Mice')\n",
    "\n",
    "plt.show()\n",
    "\n",
    "#stelasyn\n",
    "stelasyn_x_axis = np.arange(len(stelasyn_time_group))\n",
    "stelasyn_tick_locations = [value for value in stelasyn_x_axis]\n",
    "\n",
    "stelasyn_y_axis = stelasyn_time_count\n",
    "plt.bar(stelasyn_x_axis, stelasyn_y_axis)\n",
    "plt.xticks(stelasyn_tick_locations, stelasyn_time_count.keys())\n",
    "\n",
    "plt.title('Mice per Timepoint (stelasyn)')\n",
    "plt.xlabel('Timepoints (mins)')\n",
    "plt.ylabel('Number of Mice')\n",
    "\n",
    "plt.show()"
   ]
  },
  {
   "cell_type": "markdown",
   "metadata": {},
   "source": [
    "## Pie Plots"
   ]
  },
  {
   "cell_type": "code",
   "execution_count": 134,
   "metadata": {},
   "outputs": [
    {
     "data": {
      "image/png": "[encoded data removed]",
      "text/plain": [
       "<Figure size 432x288 with 1 Axes>"
      ]
     },
     "metadata": {},
     "output_type": "display_data"
    }
   ],
   "source": [
    "# Generate a pie plot showing the distribution of female versus male mice using pandas\n",
    "\n",
    "cleaned_mf = cleaned_df.copy()\n",
    "\n",
    "\n",
    "cleaned_mf_group = cleaned_mf.groupby('Sex')\n",
    "cleaned_mf_count = cleaned_mf_group['Mouse ID'].count()\n",
    "\n",
    "cleaned_mf_count.plot(kind='pie', autopct=\"%1.1f%%\", title='Mouse Gender Distribution')\n",
    "\n",
    "plt.show()"
   ]
  },
  {
   "cell_type": "code",
   "execution_count": null,
   "metadata": {},
   "outputs": [],
   "source": []
  },
  {
   "cell_type": "code",
   "execution_count": 138,
   "metadata": {},
   "outputs": [
    {
     "data": {
      "image/png": "[encoded data removed]",
      "text/plain": [
       "<Figure size 432x288 with 1 Axes>"
      ]
     },
     "metadata": {},
     "output_type": "display_data"
    }
   ],
   "source": [
    "# Generate a pie plot showing the distribution of female versus male mice using pyplot\n",
    "labels = cleaned_mf_count.keys()\n",
    "plt.pie(cleaned_mf_count, labels=labels, autopct=\"%1.1f%%\")\n",
    "plt.title('Mouse Gender Distribution')\n",
    "plt.show()"
   ]
  },
  {
   "cell_type": "markdown",
   "metadata": {},
   "source": [
    "## Quartiles, Outliers and Boxplots"
   ]
  },
  {
   "cell_type": "code",
   "execution_count": 196,
   "metadata": {
    "scrolled": false
   },
   "outputs": [
    {
     "name": "stdout",
     "output_type": "stream",
     "text": [
      "          Tumor Volume (mm3)\n",
      "Mouse ID                    \n",
      "b128               37.967644\n",
      "b742               37.950355\n",
      "f966               30.485985\n",
      "g288               36.356851\n",
      "g316               40.159220\n",
      "i557               42.261665\n",
      "i738               34.973438\n",
      "j119               38.125164\n",
      "j246               38.044082\n",
      "l509               40.207289\n",
      "l897               37.682767\n",
      "m601               28.430964\n",
      "m957               32.562839\n",
      "r157               45.000000\n",
      "r554               31.804841\n",
      "r944               40.401765\n",
      "s185               23.343598\n",
      "s710               40.171920\n",
      "t565               32.868916\n",
      "u364               31.023923\n",
      "v923               39.648296\n",
      "w150               39.202129\n",
      "w914               35.611309\n",
      "x401               28.167397\n",
      "y793               31.475411\n",
      "\n",
      "The lower quartile of temperatures is: 31.80484133\n",
      "The upper quartile of temperatures is: 39.64829568\n",
      "The interquartile range of temperatures is: 7.843454349999998\n",
      "The the median of temperatures is: 37.68276664 \n",
      "Values below 20.039659805 could be outliers.\n",
      "Values above 51.41347720499999 could be outliers.\n"
     ]
    }
   ],
   "source": [
    "# Calculate the final tumor volume of each mouse across four of the most promising treatment regimens. Calculate the IQR and quantitatively determine if there are any potential outliers. \n",
    "\n",
    "#capomulin\n",
    "capomulin_final_df = merge_df.loc[merge_df['Drug Regimen'] == 'Capomulin', :]\n",
    "#capomulin_final_df.head(100)\n",
    "\n",
    "capomulin_final_df_grouped = capomulin_final_df.groupby('Mouse ID')\n",
    "capo_df = pd.DataFrame(capomulin_final_df_grouped['Tumor Volume (mm3)'].min())\n",
    "print(capo_df)\n",
    "print('')\n",
    "\n",
    "quartiles = capo_df['Tumor Volume (mm3)'].quantile([.25,.5,.75])\n",
    "lowerq = quartiles[0.25]\n",
    "upperq = quartiles[0.75]\n",
    "iqr = upperq-lowerq\n",
    "\n",
    "print(f\"The lower quartile of temperatures is: {lowerq}\")\n",
    "print(f\"The upper quartile of temperatures is: {upperq}\")\n",
    "print(f\"The interquartile range of temperatures is: {iqr}\")\n",
    "print(f\"The the median of temperatures is: {quartiles[0.5]} \")\n",
    "\n",
    "lower_bound = lowerq - (1.5*iqr)\n",
    "upper_bound = upperq + (1.5*iqr)\n",
    "print(f\"Values below {lower_bound} could be outliers.\")\n",
    "print(f\"Values above {upper_bound} could be outliers.\")\n"
   ]
  },
  {
   "cell_type": "code",
   "execution_count": 197,
   "metadata": {},
   "outputs": [
    {
     "name": "stdout",
     "output_type": "stream",
     "text": [
      "          Tumor Volume (mm3)\n",
      "Mouse ID                    \n",
      "a411               38.087373\n",
      "a444               41.714619\n",
      "a520               35.590254\n",
      "a644               32.978522\n",
      "c458               37.753150\n",
      "c758               32.833189\n",
      "d251               37.311236\n",
      "e662               40.659006\n",
      "g791               29.128472\n",
      "i177               33.562402\n",
      "i334               36.374510\n",
      "j913               31.001861\n",
      "j989               34.671781\n",
      "k403               22.050126\n",
      "m546               30.564625\n",
      "n364               31.095335\n",
      "q597               41.395660\n",
      "q610               36.561652\n",
      "r811               36.003020\n",
      "r921               42.655341\n",
      "s508               30.276232\n",
      "u196               40.667713\n",
      "w678               43.166373\n",
      "y449               44.183451\n",
      "z578               30.638696\n",
      "\n",
      "The lower quartile of temperatures is: 31.09533505\n",
      "The upper quartile of temperatures is: 40.65900627\n",
      "The interquartile range of temperatures is: 9.56367122\n",
      "The the median of temperatures is: 36.00302016 \n",
      "Values below 16.749828219999998 could be outliers.\n",
      "Values above 55.0045131 could be outliers.\n"
     ]
    }
   ],
   "source": [
    "#ramicane\n",
    "ramicane_final_df = merge_df.loc[merge_df['Drug Regimen'] == 'Ramicane', :]\n",
    "capomulin_final_df.head(100)\n",
    "\n",
    "ramicane_final_df_grouped = ramicane_final_df.groupby('Mouse ID')\n",
    "rami_df = pd.DataFrame(ramicane_final_df_grouped['Tumor Volume (mm3)'].min())\n",
    "print(rami_df)\n",
    "print('')\n",
    "\n",
    "quartiles = rami_df['Tumor Volume (mm3)'].quantile([.25,.5,.75])\n",
    "lowerq = quartiles[0.25]\n",
    "upperq = quartiles[0.75]\n",
    "iqr = upperq-lowerq\n",
    "\n",
    "print(f\"The lower quartile of temperatures is: {lowerq}\")\n",
    "print(f\"The upper quartile of temperatures is: {upperq}\")\n",
    "print(f\"The interquartile range of temperatures is: {iqr}\")\n",
    "print(f\"The the median of temperatures is: {quartiles[0.5]} \")\n",
    "\n",
    "lower_bound = lowerq - (1.5*iqr)\n",
    "upper_bound = upperq + (1.5*iqr)\n",
    "print(f\"Values below {lower_bound} could be outliers.\")\n",
    "print(f\"Values above {upper_bound} could be outliers.\")\n"
   ]
  },
  {
   "cell_type": "code",
   "execution_count": 198,
   "metadata": {},
   "outputs": [
    {
     "name": "stdout",
     "output_type": "stream",
     "text": [
      "          Tumor Volume (mm3)\n",
      "Mouse ID                    \n",
      "a203               67.973419\n",
      "a251               65.525743\n",
      "a577               57.031862\n",
      "a685               66.083066\n",
      "c139               72.226731\n",
      "c326               45.000000\n",
      "c895               60.969711\n",
      "e476               62.435404\n",
      "f345               60.918767\n",
      "i386               67.289621\n",
      "k483               66.196912\n",
      "k804               62.117279\n",
      "m756               47.010364\n",
      "n671               60.165180\n",
      "o809               55.629428\n",
      "o813               45.699331\n",
      "q132               54.656549\n",
      "s121               55.650681\n",
      "v339               46.250112\n",
      "v719               54.048608\n",
      "v766               51.542431\n",
      "w193               50.005138\n",
      "w584               58.268442\n",
      "y163               67.685569\n",
      "z581               62.754451\n",
      "\n",
      "The lower quartile of temperatures is: 54.04860769\n",
      "The upper quartile of temperatures is: 65.52574285\n",
      "The interquartile range of temperatures is: 11.477135160000003\n",
      "The the median of temperatures is: 60.16518046 \n",
      "Values below 36.83290494999999 could be outliers.\n",
      "Values above 82.74144559000001 could be outliers.\n"
     ]
    }
   ],
   "source": [
    "#infubinol\n",
    "infubinol_final_df = merge_df.loc[merge_df['Drug Regimen'] == 'Infubinol', :]\n",
    "#infubinol_final_df.head(100)\n",
    "\n",
    "infubinol_final_df_grouped = infubinol_final_df.groupby('Mouse ID')\n",
    "infu_df = pd.DataFrame(infubinol_final_df_grouped['Tumor Volume (mm3)'].max())\n",
    "print(infu_df)\n",
    "print('')\n",
    "\n",
    "quartiles = infu_df['Tumor Volume (mm3)'].quantile([.25,.5,.75])\n",
    "lowerq = quartiles[0.25]\n",
    "upperq = quartiles[0.75]\n",
    "iqr = upperq-lowerq\n",
    "\n",
    "print(f\"The lower quartile of temperatures is: {lowerq}\")\n",
    "print(f\"The upper quartile of temperatures is: {upperq}\")\n",
    "print(f\"The interquartile range of temperatures is: {iqr}\")\n",
    "print(f\"The the median of temperatures is: {quartiles[0.5]} \")\n",
    "\n",
    "lower_bound = lowerq - (1.5*iqr)\n",
    "upper_bound = upperq + (1.5*iqr)\n",
    "print(f\"Values below {lower_bound} could be outliers.\")\n",
    "print(f\"Values above {upper_bound} could be outliers.\")\n"
   ]
  },
  {
   "cell_type": "code",
   "execution_count": 199,
   "metadata": {},
   "outputs": [
    {
     "name": "stdout",
     "output_type": "stream",
     "text": [
      "          Tumor Volume (mm3)\n",
      "Mouse ID                    \n",
      "a275               62.999356\n",
      "b447               45.000000\n",
      "b487               56.057749\n",
      "b759               55.742829\n",
      "f436               48.722078\n",
      "h531               47.784682\n",
      "j296               61.849023\n",
      "k210               68.923185\n",
      "l471               67.748662\n",
      "l490               57.918381\n",
      "l558               46.784535\n",
      "l661               59.851956\n",
      "l733               64.299830\n",
      "o287               59.741901\n",
      "p438               61.433892\n",
      "q483               64.192341\n",
      "t573               45.000000\n",
      "u149               52.925348\n",
      "u153               45.000000\n",
      "w151               67.527482\n",
      "x226               45.000000\n",
      "x581               64.634949\n",
      "x822               61.386660\n",
      "y769               68.594745\n",
      "y865               64.729837\n",
      "\n",
      "The lower quartile of temperatures is: 48.72207785\n",
      "The upper quartile of temperatures is: 64.29983003\n",
      "The interquartile range of temperatures is: 15.577752179999997\n",
      "The the median of temperatures is: 59.85195552 \n",
      "Values below 25.355449580000002 could be outliers.\n",
      "Values above 87.66645829999999 could be outliers.\n"
     ]
    }
   ],
   "source": [
    "#ceftamin\n",
    "ceftamin_final_df = merge_df.loc[merge_df['Drug Regimen'] == 'Ceftamin', :]\n",
    "#ceftamin_final_df.head(100)\n",
    "\n",
    "ceftamin_final_df_grouped = ceftamin_final_df.groupby('Mouse ID')\n",
    "ceft_df = pd.DataFrame(ceftamin_final_df_grouped['Tumor Volume (mm3)'].max())\n",
    "print(ceft_df)\n",
    "print('')\n",
    "\n",
    "quartiles = ceft_df['Tumor Volume (mm3)'].quantile([.25,.5,.75])\n",
    "lowerq = quartiles[0.25]\n",
    "upperq = quartiles[0.75]\n",
    "iqr = upperq-lowerq\n",
    "\n",
    "print(f\"The lower quartile of temperatures is: {lowerq}\")\n",
    "print(f\"The upper quartile of temperatures is: {upperq}\")\n",
    "print(f\"The interquartile range of temperatures is: {iqr}\")\n",
    "print(f\"The the median of temperatures is: {quartiles[0.5]} \")\n",
    "\n",
    "lower_bound = lowerq - (1.5*iqr)\n",
    "upper_bound = upperq + (1.5*iqr)\n",
    "print(f\"Values below {lower_bound} could be outliers.\")\n",
    "print(f\"Values above {upper_bound} could be outliers.\")"
   ]
  },
  {
   "cell_type": "code",
   "execution_count": 200,
   "metadata": {},
   "outputs": [
    {
     "data": {
      "image/png": "[encoded data removed]",
      "text/plain": [
       "<Figure size 432x288 with 1 Axes>"
      ]
     },
     "metadata": {
      "needs_background": "light"
     },
     "output_type": "display_data"
    },
    {
     "data": {
      "image/png": "[encoded data removed]",
      "text/plain": [
       "<Figure size 432x288 with 1 Axes>"
      ]
     },
     "metadata": {
      "needs_background": "light"
     },
     "output_type": "display_data"
    },
    {
     "data": {
      "image/png": "[encoded data removed]",
      "text/plain": [
       "<Figure size 432x288 with 1 Axes>"
      ]
     },
     "metadata": {
      "needs_background": "light"
     },
     "output_type": "display_data"
    },
    {
     "data": {
      "image/png": "[encoded data removed]",
      "text/plain": [
       "<Figure size 432x288 with 1 Axes>"
      ]
     },
     "metadata": {
      "needs_background": "light"
     },
     "output_type": "display_data"
    }
   ],
   "source": [
    "# Generate a box plot of the final tumor volume of each mouse across four regimens of interest\n",
    "#capo_df\n",
    "fig1, ax1 = plt.subplots()\n",
    "ax1.set_title('Final Tumor Volume per Mouse (capomulin)')\n",
    "ax1.set_ylabel('Tumor Volume (mm3)')\n",
    "ax1.boxplot(capo_df['Tumor Volume (mm3)'])\n",
    "plt.show()\n",
    "\n",
    "\n",
    "#rami_df\n",
    "fig1, ax1 = plt.subplots()\n",
    "ax1.set_title('Final Tumor Volume per Mouse (ramicane)')\n",
    "ax1.set_ylabel('Tumor Volume (mm3)')\n",
    "ax1.boxplot(rami_df['Tumor Volume (mm3)'])\n",
    "plt.show()\n",
    "\n",
    "\n",
    "#infu_df\n",
    "fig1, ax1 = plt.subplots()\n",
    "ax1.set_title('Final Tumor Volume per Mouse (infubinol)')\n",
    "ax1.set_ylabel('Tumor Volume (mm3)')\n",
    "ax1.boxplot(infu_df['Tumor Volume (mm3)'])\n",
    "plt.show()\n",
    "\n",
    "\n",
    "\n",
    "#ceft_df\n",
    "fig1, ax1 = plt.subplots()\n",
    "ax1.set_title('Final Tumor Volume per Mouse (ceftamin)')\n",
    "ax1.set_ylabel('Tumor Volume (mm3)')\n",
    "ax1.boxplot(ceft_df['Tumor Volume (mm3)'])\n",
    "plt.show()"
   ]
  },
  {
   "cell_type": "markdown",
   "metadata": {},
   "source": [
    "## Line and Scatter Plots"
   ]
  },
  {
   "cell_type": "code",
   "execution_count": 219,
   "metadata": {},
   "outputs": [
    {
     "data": {
      "image/png": "[encoded data removed]",
      "text/plain": [
       "<Figure size 432x288 with 1 Axes>"
      ]
     },
     "metadata": {
      "needs_background": "light"
     },
     "output_type": "display_data"
    }
   ],
   "source": [
    "# Generate a line plot of time point versus tumor volume for a mouse treated with Capomulin\n",
    "capo_mouse = capomulin_final_df.loc[capomulin_final_df['Mouse ID'] == 's185']\n",
    "\n",
    "#print(capo_mouse.head())\n",
    "\n",
    "time = capo_mouse['Timepoint']\n",
    "tumor_volume = capo_mouse['Tumor Volume (mm3)']\n",
    "\n",
    "\n",
    "capomulin_x_axis_mouse = np.arange(len(time))\n",
    "capomulin_tick_locations_mouse = [value for value in capomulin_x_axis_mouse]\n",
    "\n",
    "capomulin_y_axis_mouse = tumor_volume\n",
    "plt.plot(capomulin_x_axis_mouse, capomulin_y_axis_mouse)\n",
    "plt.xticks(capomulin_tick_locations_mouse, capo_mouse['Timepoint'].keys())\n",
    "\n",
    "plt.xlabel('Time')\n",
    "plt.ylabel('Tumor Volume')\n",
    "plt.title('Tumor Volume Over Time')\n",
    "\n",
    "plt.show()"
   ]
  },
  {
   "cell_type": "code",
   "execution_count": 262,
   "metadata": {
    "scrolled": false
   },
   "outputs": [
    {
     "ename": "ValueError",
     "evalue": "plot kind scatter can only be used for data frames",
     "output_type": "error",
     "traceback": [
      "\u001b[1;31m---------------------------------------------------------------------------\u001b[0m",
      "\u001b[1;31mValueError\u001b[0m                                Traceback (most recent call last)",
      "\u001b[1;32m<ipython-input-262-26493c1de52e>\u001b[0m in \u001b[0;36m<module>\u001b[1;34m\u001b[0m\n\u001b[0;32m     10\u001b[0m \u001b[0mcapo_weight\u001b[0m\u001b[1;33m.\u001b[0m\u001b[0mhead\u001b[0m\u001b[1;33m(\u001b[0m\u001b[1;33m)\u001b[0m\u001b[1;33m\u001b[0m\u001b[1;33m\u001b[0m\u001b[0m\n\u001b[0;32m     11\u001b[0m \u001b[1;33m\u001b[0m\u001b[0m\n\u001b[1;32m---> 12\u001b[1;33m \u001b[0mtumor_avg\u001b[0m\u001b[1;33m.\u001b[0m\u001b[0mplot\u001b[0m\u001b[1;33m(\u001b[0m\u001b[0mkind\u001b[0m\u001b[1;33m=\u001b[0m\u001b[1;34m'scatter'\u001b[0m\u001b[1;33m)\u001b[0m\u001b[1;33m\u001b[0m\u001b[1;33m\u001b[0m\u001b[0m\n\u001b[0m",
      "\u001b[1;32m~\\Anaconda3\\lib\\site-packages\\pandas\\plotting\\_core.py\u001b[0m in \u001b[0;36m__call__\u001b[1;34m(self, *args, **kwargs)\u001b[0m\n\u001b[0;32m    739\u001b[0m             \u001b[1;32melse\u001b[0m\u001b[1;33m:\u001b[0m\u001b[1;33m\u001b[0m\u001b[1;33m\u001b[0m\u001b[0m\n\u001b[0;32m    740\u001b[0m                 raise ValueError(\n\u001b[1;32m--> 741\u001b[1;33m                     \u001b[1;33m(\u001b[0m\u001b[1;34m\"plot kind {} can only be used for \"\u001b[0m \u001b[1;34m\"data frames\"\u001b[0m\u001b[1;33m)\u001b[0m\u001b[1;33m.\u001b[0m\u001b[0mformat\u001b[0m\u001b[1;33m(\u001b[0m\u001b[0mkind\u001b[0m\u001b[1;33m)\u001b[0m\u001b[1;33m\u001b[0m\u001b[1;33m\u001b[0m\u001b[0m\n\u001b[0m\u001b[0;32m    742\u001b[0m                 )\n\u001b[0;32m    743\u001b[0m         \u001b[1;32melif\u001b[0m \u001b[0mkind\u001b[0m \u001b[1;32min\u001b[0m \u001b[0mself\u001b[0m\u001b[1;33m.\u001b[0m\u001b[0m_series_kinds\u001b[0m\u001b[1;33m:\u001b[0m\u001b[1;33m\u001b[0m\u001b[1;33m\u001b[0m\u001b[0m\n",
      "\u001b[1;31mValueError\u001b[0m: plot kind scatter can only be used for data frames"
     ]
    }
   ],
   "source": [
    "# Generate a scatter plot of mouse weight versus average tumor volume for the Capomulin regimen\n",
    "capomulin_df_weight = merge_df.loc[merge_df['Drug Regimen'] == 'Capomulin', :]\n",
    "#capomulin_df_weight.head(100)\n",
    "capomulin_df_weight_group = capomulin_df_weight.groupby(['Mouse ID'])\n",
    "\n",
    "tumor_avg = capomulin_df_weight_group['Tumor Volume (mm3)'].mean()\n",
    "tumore_avg_df = pd.DataFrame(tumor_avg.head())\n",
    "\n",
    "capo_weight = capomulin_df_weight.groupby(['Weight (g)','Mouse ID'])\n",
    "capo_weight.head()\n",
    "\n",
    "tumor_avg.plot(kind='scatter')\n"
   ]
  },
  {
   "cell_type": "markdown",
   "metadata": {},
   "source": [
    "## Correlation and Regression"
   ]
  },
  {
   "cell_type": "code",
   "execution_count": 17,
   "metadata": {},
   "outputs": [],
   "source": [
    "# Calculate the correlation coefficient and linear regression model \n",
    "# for mouse weight and average tumor volume for the Capomulin regimen\n"
   ]
  },
  {
   "cell_type": "code",
   "execution_count": 263,
   "metadata": {},
   "outputs": [
    {
     "ename": "AttributeError",
     "evalue": "'bool' object has no attribute 'all'",
     "output_type": "error",
     "traceback": [
      "\u001b[1;31m---------------------------------------------------------------------------\u001b[0m",
      "\u001b[1;31mAttributeError\u001b[0m                            Traceback (most recent call last)",
      "\u001b[1;32m<ipython-input-263-08401de17e22>\u001b[0m in \u001b[0;36m<module>\u001b[1;34m\u001b[0m\n\u001b[1;32m----> 1\u001b[1;33m \u001b[0mcorrelation\u001b[0m \u001b[1;33m=\u001b[0m \u001b[0mst\u001b[0m\u001b[1;33m.\u001b[0m\u001b[0mpearsonr\u001b[0m\u001b[1;33m(\u001b[0m\u001b[0mtumor_avg\u001b[0m\u001b[1;33m,\u001b[0m \u001b[0mcapo_weight\u001b[0m\u001b[1;33m)\u001b[0m\u001b[1;33m\u001b[0m\u001b[1;33m\u001b[0m\u001b[0m\n\u001b[0m\u001b[0;32m      2\u001b[0m \u001b[0mprint\u001b[0m\u001b[1;33m(\u001b[0m\u001b[0mcorrelation\u001b[0m\u001b[1;33m)\u001b[0m\u001b[1;33m\u001b[0m\u001b[1;33m\u001b[0m\u001b[0m\n",
      "\u001b[1;32m~\\Anaconda3\\lib\\site-packages\\scipy\\stats\\stats.py\u001b[0m in \u001b[0;36mpearsonr\u001b[1;34m(x, y)\u001b[0m\n\u001b[0;32m   3396\u001b[0m \u001b[1;33m\u001b[0m\u001b[0m\n\u001b[0;32m   3397\u001b[0m     \u001b[1;31m# If an input is constant, the correlation coefficient is not defined.\u001b[0m\u001b[1;33m\u001b[0m\u001b[1;33m\u001b[0m\u001b[1;33m\u001b[0m\u001b[0m\n\u001b[1;32m-> 3398\u001b[1;33m     \u001b[1;32mif\u001b[0m \u001b[1;33m(\u001b[0m\u001b[0mx\u001b[0m \u001b[1;33m==\u001b[0m \u001b[0mx\u001b[0m\u001b[1;33m[\u001b[0m\u001b[1;36m0\u001b[0m\u001b[1;33m]\u001b[0m\u001b[1;33m)\u001b[0m\u001b[1;33m.\u001b[0m\u001b[0mall\u001b[0m\u001b[1;33m(\u001b[0m\u001b[1;33m)\u001b[0m \u001b[1;32mor\u001b[0m \u001b[1;33m(\u001b[0m\u001b[0my\u001b[0m \u001b[1;33m==\u001b[0m \u001b[0my\u001b[0m\u001b[1;33m[\u001b[0m\u001b[1;36m0\u001b[0m\u001b[1;33m]\u001b[0m\u001b[1;33m)\u001b[0m\u001b[1;33m.\u001b[0m\u001b[0mall\u001b[0m\u001b[1;33m(\u001b[0m\u001b[1;33m)\u001b[0m\u001b[1;33m:\u001b[0m\u001b[1;33m\u001b[0m\u001b[1;33m\u001b[0m\u001b[0m\n\u001b[0m\u001b[0;32m   3399\u001b[0m         \u001b[0mwarnings\u001b[0m\u001b[1;33m.\u001b[0m\u001b[0mwarn\u001b[0m\u001b[1;33m(\u001b[0m\u001b[0mPearsonRConstantInputWarning\u001b[0m\u001b[1;33m(\u001b[0m\u001b[1;33m)\u001b[0m\u001b[1;33m)\u001b[0m\u001b[1;33m\u001b[0m\u001b[1;33m\u001b[0m\u001b[0m\n\u001b[0;32m   3400\u001b[0m         \u001b[1;32mreturn\u001b[0m \u001b[0mnp\u001b[0m\u001b[1;33m.\u001b[0m\u001b[0mnan\u001b[0m\u001b[1;33m,\u001b[0m \u001b[0mnp\u001b[0m\u001b[1;33m.\u001b[0m\u001b[0mnan\u001b[0m\u001b[1;33m\u001b[0m\u001b[1;33m\u001b[0m\u001b[0m\n",
      "\u001b[1;31mAttributeError\u001b[0m: 'bool' object has no attribute 'all'"
     ]
    }
   ],
   "source": [
    "correlation = st.pearsonr(tumor_avg, capo_weight)\n",
    "print(correlation)"
   ]
  },
  {
   "cell_type": "code",
   "execution_count": 266,
   "metadata": {},
   "outputs": [
    {
     "ename": "ValueError",
     "evalue": "Unable to coerce to Series, length must be 8: given 2",
     "output_type": "error",
     "traceback": [
      "\u001b[1;31m---------------------------------------------------------------------------\u001b[0m",
      "\u001b[1;31mValueError\u001b[0m                                Traceback (most recent call last)",
      "\u001b[1;32m<ipython-input-266-a208ff89111f>\u001b[0m in \u001b[0;36m<module>\u001b[1;34m\u001b[0m\n\u001b[0;32m      1\u001b[0m \u001b[0mx_values\u001b[0m \u001b[1;33m=\u001b[0m \u001b[0mtumor_avg\u001b[0m\u001b[1;33m\u001b[0m\u001b[1;33m\u001b[0m\u001b[0m\n\u001b[0;32m      2\u001b[0m \u001b[0my_values\u001b[0m \u001b[1;33m=\u001b[0m \u001b[0mcapo_weight\u001b[0m\u001b[1;33m\u001b[0m\u001b[1;33m\u001b[0m\u001b[0m\n\u001b[1;32m----> 3\u001b[1;33m \u001b[1;33m(\u001b[0m\u001b[0mslope\u001b[0m\u001b[1;33m,\u001b[0m \u001b[0mintercept\u001b[0m\u001b[1;33m,\u001b[0m \u001b[0mrvalue\u001b[0m\u001b[1;33m,\u001b[0m \u001b[0mpvalue\u001b[0m\u001b[1;33m,\u001b[0m \u001b[0mstderr\u001b[0m\u001b[1;33m)\u001b[0m \u001b[1;33m=\u001b[0m \u001b[0mlinregress\u001b[0m\u001b[1;33m(\u001b[0m\u001b[0mx_values\u001b[0m\u001b[1;33m,\u001b[0m \u001b[0my_values\u001b[0m\u001b[1;33m)\u001b[0m\u001b[1;33m\u001b[0m\u001b[1;33m\u001b[0m\u001b[0m\n\u001b[0m\u001b[0;32m      4\u001b[0m \u001b[0mregress_values\u001b[0m \u001b[1;33m=\u001b[0m \u001b[0mx_values\u001b[0m \u001b[1;33m*\u001b[0m \u001b[0mslope\u001b[0m \u001b[1;33m+\u001b[0m \u001b[0mintercept\u001b[0m\u001b[1;33m\u001b[0m\u001b[1;33m\u001b[0m\u001b[0m\n\u001b[0;32m      5\u001b[0m \u001b[0mline_eq\u001b[0m \u001b[1;33m=\u001b[0m \u001b[1;34m\"y = \"\u001b[0m \u001b[1;33m+\u001b[0m \u001b[0mstr\u001b[0m\u001b[1;33m(\u001b[0m\u001b[0mround\u001b[0m\u001b[1;33m(\u001b[0m\u001b[0mslope\u001b[0m\u001b[1;33m,\u001b[0m\u001b[1;36m2\u001b[0m\u001b[1;33m)\u001b[0m\u001b[1;33m)\u001b[0m \u001b[1;33m+\u001b[0m \u001b[1;34m\"x + \"\u001b[0m \u001b[1;33m+\u001b[0m \u001b[0mstr\u001b[0m\u001b[1;33m(\u001b[0m\u001b[0mround\u001b[0m\u001b[1;33m(\u001b[0m\u001b[0mintercept\u001b[0m\u001b[1;33m,\u001b[0m\u001b[1;36m2\u001b[0m\u001b[1;33m)\u001b[0m\u001b[1;33m)\u001b[0m\u001b[1;33m\u001b[0m\u001b[1;33m\u001b[0m\u001b[0m\n",
      "\u001b[1;32m~\\Anaconda3\\lib\\site-packages\\scipy\\stats\\_stats_mstats_common.py\u001b[0m in \u001b[0;36mlinregress\u001b[1;34m(x, y)\u001b[0m\n\u001b[0;32m    111\u001b[0m     \u001b[0mn\u001b[0m \u001b[1;33m=\u001b[0m \u001b[0mlen\u001b[0m\u001b[1;33m(\u001b[0m\u001b[0mx\u001b[0m\u001b[1;33m)\u001b[0m\u001b[1;33m\u001b[0m\u001b[1;33m\u001b[0m\u001b[0m\n\u001b[0;32m    112\u001b[0m     \u001b[0mxmean\u001b[0m \u001b[1;33m=\u001b[0m \u001b[0mnp\u001b[0m\u001b[1;33m.\u001b[0m\u001b[0mmean\u001b[0m\u001b[1;33m(\u001b[0m\u001b[0mx\u001b[0m\u001b[1;33m,\u001b[0m \u001b[1;32mNone\u001b[0m\u001b[1;33m)\u001b[0m\u001b[1;33m\u001b[0m\u001b[1;33m\u001b[0m\u001b[0m\n\u001b[1;32m--> 113\u001b[1;33m     \u001b[0mymean\u001b[0m \u001b[1;33m=\u001b[0m \u001b[0mnp\u001b[0m\u001b[1;33m.\u001b[0m\u001b[0mmean\u001b[0m\u001b[1;33m(\u001b[0m\u001b[0my\u001b[0m\u001b[1;33m,\u001b[0m \u001b[1;32mNone\u001b[0m\u001b[1;33m)\u001b[0m\u001b[1;33m\u001b[0m\u001b[1;33m\u001b[0m\u001b[0m\n\u001b[0m\u001b[0;32m    114\u001b[0m \u001b[1;33m\u001b[0m\u001b[0m\n\u001b[0;32m    115\u001b[0m     \u001b[1;31m# average sum of squares:\u001b[0m\u001b[1;33m\u001b[0m\u001b[1;33m\u001b[0m\u001b[1;33m\u001b[0m\u001b[0m\n",
      "\u001b[1;32m~\\Anaconda3\\lib\\site-packages\\numpy\\core\\fromnumeric.py\u001b[0m in \u001b[0;36mmean\u001b[1;34m(a, axis, dtype, out, keepdims)\u001b[0m\n\u001b[0;32m   3116\u001b[0m \u001b[1;33m\u001b[0m\u001b[0m\n\u001b[0;32m   3117\u001b[0m     return _methods._mean(a, axis=axis, dtype=dtype,\n\u001b[1;32m-> 3118\u001b[1;33m                           out=out, **kwargs)\n\u001b[0m\u001b[0;32m   3119\u001b[0m \u001b[1;33m\u001b[0m\u001b[0m\n\u001b[0;32m   3120\u001b[0m \u001b[1;33m\u001b[0m\u001b[0m\n",
      "\u001b[1;32m~\\Anaconda3\\lib\\site-packages\\numpy\\core\\_methods.py\u001b[0m in \u001b[0;36m_mean\u001b[1;34m(a, axis, dtype, out, keepdims)\u001b[0m\n\u001b[0;32m     73\u001b[0m             \u001b[0mis_float16_result\u001b[0m \u001b[1;33m=\u001b[0m \u001b[1;32mTrue\u001b[0m\u001b[1;33m\u001b[0m\u001b[1;33m\u001b[0m\u001b[0m\n\u001b[0;32m     74\u001b[0m \u001b[1;33m\u001b[0m\u001b[0m\n\u001b[1;32m---> 75\u001b[1;33m     \u001b[0mret\u001b[0m \u001b[1;33m=\u001b[0m \u001b[0mumr_sum\u001b[0m\u001b[1;33m(\u001b[0m\u001b[0marr\u001b[0m\u001b[1;33m,\u001b[0m \u001b[0maxis\u001b[0m\u001b[1;33m,\u001b[0m \u001b[0mdtype\u001b[0m\u001b[1;33m,\u001b[0m \u001b[0mout\u001b[0m\u001b[1;33m,\u001b[0m \u001b[0mkeepdims\u001b[0m\u001b[1;33m)\u001b[0m\u001b[1;33m\u001b[0m\u001b[1;33m\u001b[0m\u001b[0m\n\u001b[0m\u001b[0;32m     76\u001b[0m     \u001b[1;32mif\u001b[0m \u001b[0misinstance\u001b[0m\u001b[1;33m(\u001b[0m\u001b[0mret\u001b[0m\u001b[1;33m,\u001b[0m \u001b[0mmu\u001b[0m\u001b[1;33m.\u001b[0m\u001b[0mndarray\u001b[0m\u001b[1;33m)\u001b[0m\u001b[1;33m:\u001b[0m\u001b[1;33m\u001b[0m\u001b[1;33m\u001b[0m\u001b[0m\n\u001b[0;32m     77\u001b[0m         ret = um.true_divide(\n",
      "\u001b[1;32m~\\Anaconda3\\lib\\site-packages\\pandas\\core\\ops\\__init__.py\u001b[0m in \u001b[0;36mf\u001b[1;34m(self, other, axis, level, fill_value)\u001b[0m\n\u001b[0;32m   1486\u001b[0m     \u001b[1;32mdef\u001b[0m \u001b[0mf\u001b[0m\u001b[1;33m(\u001b[0m\u001b[0mself\u001b[0m\u001b[1;33m,\u001b[0m \u001b[0mother\u001b[0m\u001b[1;33m,\u001b[0m \u001b[0maxis\u001b[0m\u001b[1;33m=\u001b[0m\u001b[0mdefault_axis\u001b[0m\u001b[1;33m,\u001b[0m \u001b[0mlevel\u001b[0m\u001b[1;33m=\u001b[0m\u001b[1;32mNone\u001b[0m\u001b[1;33m,\u001b[0m \u001b[0mfill_value\u001b[0m\u001b[1;33m=\u001b[0m\u001b[1;32mNone\u001b[0m\u001b[1;33m)\u001b[0m\u001b[1;33m:\u001b[0m\u001b[1;33m\u001b[0m\u001b[1;33m\u001b[0m\u001b[0m\n\u001b[0;32m   1487\u001b[0m \u001b[1;33m\u001b[0m\u001b[0m\n\u001b[1;32m-> 1488\u001b[1;33m         \u001b[0mother\u001b[0m \u001b[1;33m=\u001b[0m \u001b[0m_align_method_FRAME\u001b[0m\u001b[1;33m(\u001b[0m\u001b[0mself\u001b[0m\u001b[1;33m,\u001b[0m \u001b[0mother\u001b[0m\u001b[1;33m,\u001b[0m \u001b[0maxis\u001b[0m\u001b[1;33m)\u001b[0m\u001b[1;33m\u001b[0m\u001b[1;33m\u001b[0m\u001b[0m\n\u001b[0m\u001b[0;32m   1489\u001b[0m \u001b[1;33m\u001b[0m\u001b[0m\n\u001b[0;32m   1490\u001b[0m         \u001b[1;32mif\u001b[0m \u001b[0misinstance\u001b[0m\u001b[1;33m(\u001b[0m\u001b[0mother\u001b[0m\u001b[1;33m,\u001b[0m \u001b[0mABCDataFrame\u001b[0m\u001b[1;33m)\u001b[0m\u001b[1;33m:\u001b[0m\u001b[1;33m\u001b[0m\u001b[1;33m\u001b[0m\u001b[0m\n",
      "\u001b[1;32m~\\Anaconda3\\lib\\site-packages\\pandas\\core\\ops\\__init__.py\u001b[0m in \u001b[0;36m_align_method_FRAME\u001b[1;34m(left, right, axis)\u001b[0m\n\u001b[0;32m   1456\u001b[0m     \u001b[1;32melif\u001b[0m \u001b[0mis_list_like\u001b[0m\u001b[1;33m(\u001b[0m\u001b[0mright\u001b[0m\u001b[1;33m)\u001b[0m \u001b[1;32mand\u001b[0m \u001b[1;32mnot\u001b[0m \u001b[0misinstance\u001b[0m\u001b[1;33m(\u001b[0m\u001b[0mright\u001b[0m\u001b[1;33m,\u001b[0m \u001b[1;33m(\u001b[0m\u001b[0mABCSeries\u001b[0m\u001b[1;33m,\u001b[0m \u001b[0mABCDataFrame\u001b[0m\u001b[1;33m)\u001b[0m\u001b[1;33m)\u001b[0m\u001b[1;33m:\u001b[0m\u001b[1;33m\u001b[0m\u001b[1;33m\u001b[0m\u001b[0m\n\u001b[0;32m   1457\u001b[0m         \u001b[1;31m# GH17901\u001b[0m\u001b[1;33m\u001b[0m\u001b[1;33m\u001b[0m\u001b[1;33m\u001b[0m\u001b[0m\n\u001b[1;32m-> 1458\u001b[1;33m         \u001b[0mright\u001b[0m \u001b[1;33m=\u001b[0m \u001b[0mto_series\u001b[0m\u001b[1;33m(\u001b[0m\u001b[0mright\u001b[0m\u001b[1;33m)\u001b[0m\u001b[1;33m\u001b[0m\u001b[1;33m\u001b[0m\u001b[0m\n\u001b[0m\u001b[0;32m   1459\u001b[0m \u001b[1;33m\u001b[0m\u001b[0m\n\u001b[0;32m   1460\u001b[0m     \u001b[1;32mreturn\u001b[0m \u001b[0mright\u001b[0m\u001b[1;33m\u001b[0m\u001b[1;33m\u001b[0m\u001b[0m\n",
      "\u001b[1;32m~\\Anaconda3\\lib\\site-packages\\pandas\\core\\ops\\__init__.py\u001b[0m in \u001b[0;36mto_series\u001b[1;34m(right)\u001b[0m\n\u001b[0;32m   1417\u001b[0m             \u001b[1;32mif\u001b[0m \u001b[0mlen\u001b[0m\u001b[1;33m(\u001b[0m\u001b[0mleft\u001b[0m\u001b[1;33m.\u001b[0m\u001b[0mcolumns\u001b[0m\u001b[1;33m)\u001b[0m \u001b[1;33m!=\u001b[0m \u001b[0mlen\u001b[0m\u001b[1;33m(\u001b[0m\u001b[0mright\u001b[0m\u001b[1;33m)\u001b[0m\u001b[1;33m:\u001b[0m\u001b[1;33m\u001b[0m\u001b[1;33m\u001b[0m\u001b[0m\n\u001b[0;32m   1418\u001b[0m                 raise ValueError(\n\u001b[1;32m-> 1419\u001b[1;33m                     \u001b[0mmsg\u001b[0m\u001b[1;33m.\u001b[0m\u001b[0mformat\u001b[0m\u001b[1;33m(\u001b[0m\u001b[0mreq_len\u001b[0m\u001b[1;33m=\u001b[0m\u001b[0mlen\u001b[0m\u001b[1;33m(\u001b[0m\u001b[0mleft\u001b[0m\u001b[1;33m.\u001b[0m\u001b[0mcolumns\u001b[0m\u001b[1;33m)\u001b[0m\u001b[1;33m,\u001b[0m \u001b[0mgiven_len\u001b[0m\u001b[1;33m=\u001b[0m\u001b[0mlen\u001b[0m\u001b[1;33m(\u001b[0m\u001b[0mright\u001b[0m\u001b[1;33m)\u001b[0m\u001b[1;33m)\u001b[0m\u001b[1;33m\u001b[0m\u001b[1;33m\u001b[0m\u001b[0m\n\u001b[0m\u001b[0;32m   1420\u001b[0m                 )\n\u001b[0;32m   1421\u001b[0m             \u001b[0mright\u001b[0m \u001b[1;33m=\u001b[0m \u001b[0mleft\u001b[0m\u001b[1;33m.\u001b[0m\u001b[0m_constructor_sliced\u001b[0m\u001b[1;33m(\u001b[0m\u001b[0mright\u001b[0m\u001b[1;33m,\u001b[0m \u001b[0mindex\u001b[0m\u001b[1;33m=\u001b[0m\u001b[0mleft\u001b[0m\u001b[1;33m.\u001b[0m\u001b[0mcolumns\u001b[0m\u001b[1;33m)\u001b[0m\u001b[1;33m\u001b[0m\u001b[1;33m\u001b[0m\u001b[0m\n",
      "\u001b[1;31mValueError\u001b[0m: Unable to coerce to Series, length must be 8: given 2"
     ]
    }
   ],
   "source": [
    "x_values = tumor_avg\n",
    "y_values = capo_weight\n",
    "(slope, intercept, rvalue, pvalue, stderr) = linregress(x_values, y_values)\n",
    "regress_values = x_values * slope + intercept\n",
    "line_eq = \"y = \" + str(round(slope,2)) + \"x + \" + str(round(intercept,2))\n",
    "plt.scatter(x_values,y_values)\n",
    "plt.plot(x_values,regress_values,\"r-\")\n",
    "plt.annotate(line_eq,(0,50),fontsize=15,color=\"red\")\n",
    "plt.xlabel('Mouse Weight')\n",
    "plt.ylabel('Tumor Volume')\n",
    "print(f\"The r-squared is: {rvalue**2}\")\n",
    "plt.show()"
   ]
  },
  {
   "cell_type": "markdown",
   "metadata": {},
   "source": [
    "# Conclusions"
   ]
  },
  {
   "cell_type": "markdown",
   "metadata": {},
   "source": [
    "*Capomulin and Ramicane had the smallest average tumor volumes\n",
    "*Stelasyn performed about the same as the placebo\n",
    "*Capomulin and Ramicane had the most mice still living at the end of the trials "
   ]
  }
 ],
 "metadata": {
  "anaconda-cloud": {},
  "kernelspec": {
   "display_name": "Python 3",
   "language": "python",
   "name": "python3"
  },
  "language_info": {
   "codemirror_mode": {
    "name": "ipython",
    "version": 3
   },
   "file_extension": ".py",
   "mimetype": "text/x-python",
   "name": "python",
   "nbconvert_exporter": "python",
   "pygments_lexer": "ipython3",
   "version": "3.7.4"
  }
 },
 "nbformat": 4,
 "nbformat_minor": 2
}
